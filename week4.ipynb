{
 "cells": [
  {
   "cell_type": "markdown",
   "metadata": {
    "collapsed": true,
    "pycharm": {
     "name": "#%% md\n"
    }
   },
   "source": [
    "# Intermediate Python - Week 4\n",
    "\n",
    "## Goals\n",
    "-----\n",
    "* This week, we will transition away from writing code in Jupyter Notebooks and start writing standalone programs you can run from the command line\n",
    "* Introduction to PyCharm and IDEs\n",
    "* Working with isolated Python environments\n",
    "\n",
    "Whilst Jupyter notebooks are great for exploring ideas and initial development, they have their limitations, and at some point, you're going to want to convert your code to a standalone `.py` file that you can run from the command line.\n",
    "This week, we're going to transition away from from Jupyter notebooks and get comfortable writing programs that you can run from the command line\n",
    "\n",
    "Some prerequisites:\n",
    "* Install PyCharm community and Python 3.9 from the software store\n",
    "* Follow the guidance below to get set up and configure pycharm\n",
    "\n",
    "### Writing Python scripts from scratch\n",
    "\n",
    "There is a standard format that python programs take that you will see alot throughout toay\n",
    "\n",
    "```\n",
    "def main(arg1, arg2):\n",
    "    do something with arg1, arg2\n",
    "\n",
    "\n",
    "if __name__ == \"__main__\":\n",
    "    parser = argparse.ArgumentParser()\n",
    "    parser.add_argument(\"-arg1\")\n",
    "    parser.add_argument(\"-arg2\")\n",
    "\n",
    "    args = parser.parse_args()\n",
    "\n",
    "    main(args.arg1, args.arg2)\n",
    "```\n"
   ]
  }
 ],
 "metadata": {
  "kernelspec": {
   "display_name": "Python 3",
   "language": "python",
   "name": "python3"
  },
  "language_info": {
   "codemirror_mode": {
    "name": "ipython",
    "version": 2
   },
   "file_extension": ".py",
   "mimetype": "text/x-python",
   "name": "python",
   "nbconvert_exporter": "python",
   "pygments_lexer": "ipython2",
   "version": "2.7.6"
  }
 },
 "nbformat": 4,
 "nbformat_minor": 0
}