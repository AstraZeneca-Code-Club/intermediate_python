{
 "cells": [
  {
   "cell_type": "markdown",
   "metadata": {
    "collapsed": true,
    "pycharm": {
     "name": "#%% md\n"
    }
   },
   "source": [
    "# Intermediate Python - Week 6-8\n",
    "\n",
    "During the next three weeks, we'll be doing a mini-project to introduce you to statistics and machine learning! \n",
    "You'll be using the packages we've introduced you to already, plus some new ones, so refer back to notebooks from previous weeks for a refresher.\n",
    "\n",
    "\n"
   ]
  },
  {
   "cell_type": "markdown",
   "source": [],
   "metadata": {
    "collapsed": false,
    "pycharm": {
     "name": "#%% md\n"
    }
   }
  },
  {
   "cell_type": "code",
   "execution_count": 1,
   "outputs": [],
   "source": [
    "# Download the dataset we'll be working on\n",
    "\n"
   ],
   "metadata": {
    "collapsed": false,
    "pycharm": {
     "name": "#%%\n"
    }
   }
  },
  {
   "cell_type": "code",
   "execution_count": 2,
   "metadata": {},
   "outputs": [],
   "source": [
    "import pandas as pd"
   ]
  },
  {
   "cell_type": "code",
   "execution_count": 3,
   "metadata": {},
   "outputs": [],
   "source": [
    "dataset = pd.read_csv(\"https://raw.githubusercontent.com/AstraZeneca-Code-Club/intermediate_python/main/datasets/housing/housing.csv\")"
   ]
  },
  {
   "cell_type": "markdown",
   "source": [],
   "metadata": {
    "collapsed": false
   }
  },
  {
   "source": [
    "## Tasks\n",
    "\n",
    "* Visualise the Data - plot histograms for each of the attributes\n",
    "* Segment the data into stratified train and test sets\n",
    "* Use a correlation matrix to identify patterns in the data\n",
    "* Clean the Data, prepare for machine learning\n",
    "* Create a pipeline to handle numerical and catagorical attributes\n",
    "* Train some basic regression models\n",
    "* Train better with cross validation\n",
    "* Compute performance metrics and compare model preformance"
   ],
   "cell_type": "markdown",
   "metadata": {}
  }
 ],
 "metadata": {
  "kernelspec": {
   "name": "python3",
   "display_name": "Python 3.9.6 64-bit ('my_env')"
  },
  "language_info": {
   "codemirror_mode": {
    "name": "ipython",
    "version": 2
   },
   "file_extension": ".py",
   "mimetype": "text/x-python",
   "name": "python",
   "nbconvert_exporter": "python",
   "pygments_lexer": "ipython2",
   "version": "3.9.6"
  },
  "interpreter": {
   "hash": "03045a9733ea1a537ffa9104e197cb77bcebdb2c63fa862e44cbe6ef3569236d"
  }
 },
 "nbformat": 4,
 "nbformat_minor": 0
}