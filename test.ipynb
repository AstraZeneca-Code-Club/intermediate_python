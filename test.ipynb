{
 "cells": [
  {
   "cell_type": "markdown",
   "metadata": {},
   "source": [
    "# Intermediate Python - Week 1\n",
    "\n",
    "In this course we will be focussing on getting familiar with Python using examples that you might come across in your day to day work.  During this course, you will get familiar with Python for automating data analysis, creating publication-quality graphics and we will touch upon machine learning.  We are assuming you are somewhat familiar with Python (or another obejct oriented language), since we will not cover the basics of syntax and login in as much detail as the beginer course.  \n",
    "\n",
    "The course will be taught through Jupyter notebooks, which you can clone from the public Git repo and run either in a Google Colab instance in the cloud or on your own machine using a text editor like vs code."
   ]
  },
  {
   "cell_type": "markdown",
   "metadata": {},
   "source": [
    "## Course Structure\n",
    "\n",
    "* Week 1 - Extending Python's functionality with packages; Environments; handling external data, introduction to Pandas\n",
    "* Week 2 - \n",
    "* Week 3 - Data visualisation with matplotlib, seaborn, etc\n",
    "* Week 4 - Moving beyond notebooks - Writing command line programs to automate data analysis\n",
    "* Week 5 - OOP fundamentals - classes, attributes, methods\n",
    "* Week 6 - \n",
    "* Week 7 - \n",
    "* week 8 - DIY neural networks with pure Python/numpy\n"
   ]
  },
  {
   "cell_type": "markdown",
   "metadata": {},
   "source": [
    "### Part 1: Handling data stored in external files\n",
    "#### Motivation\n",
    "You want to import some data from your analytical instrument and perform some processing and statistical analysis"
   ]
  },
  {
   "cell_type": "markdown",
   "metadata": {},
   "source": [
    "The first job is to download the data and read it into a variable"
   ]
  },
  {
   "cell_type": "code",
   "execution_count": 2,
   "metadata": {},
   "outputs": [],
   "source": [
    "# "
   ]
  },
  {
   "cell_type": "code",
   "execution_count": null,
   "metadata": {},
   "outputs": [],
   "source": [
    "# or use some pandas functions to read straight into a dataframe"
   ]
  }
 ],
 "metadata": {
  "language_info": {
   "codemirror_mode": {
    "name": "ipython",
    "version": 3
   },
   "file_extension": ".py",
   "mimetype": "text/x-python",
   "name": "python",
   "nbconvert_exporter": "python",
   "pygments_lexer": "ipython3",
   "version": "3.8.8-final"
  },
  "orig_nbformat": 2,
  "kernelspec": {
   "name": "pytorch_env",
   "display_name": "pytorch_env_conda_env"
  }
 },
 "nbformat": 4,
 "nbformat_minor": 2
}