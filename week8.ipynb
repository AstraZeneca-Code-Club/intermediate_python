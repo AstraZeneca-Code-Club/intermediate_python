{
 "cells": [
  {
   "cell_type": "markdown",
   "metadata": {
    "collapsed": true,
    "pycharm": {
     "name": "#%% md\n"
    }
   },
   "source": [
    "# Introduction to Objects in Python\n",
    "\n",
    "\n",
    "At this point you'll have heard me talk extensively about objects in Python.  They are the central idea of Python, and many other languages,\n",
    "which provide a powerful abstraction to help you write code better.\n",
    "\n",
    "Today I'll introduce you to the idea of classes in Python, and walk you through creating classes to represent key concepts\n",
    "\n",
    "\n",
    "\n",
    "\n",
    "### Obejct Oriented Programming\n",
    "\n",
    "* Introduction to object orientation\n",
    "\n",
    "Every data structure, machine learning model, function, etc we have introduced so far is an object in Python.  In Python (and other languages that support OOP),\n",
    "we write classes that represent abstractions of real world objects, and instances of those classes to represent the specific object.  (You'll have heard me refer to instantiating SKlearn classes when we define a model for example)\n",
    "\n",
    "Today we'll go in depth into how classes work, and how to write clear, legible and easily extendable code in an OOP framework.\n",
    "\n",
    "\n",
    "### Part 1: Introduction to classes and OOP"
   ]
  },
  {
   "cell_type": "markdown",
   "source": [
    "Classes represent the 'general case', or blueprint, of a specific type of object.  In many python tutorials,\n",
    "this is introduced in the context of employees in a company.  That might look something like this..."
   ],
   "metadata": {
    "collapsed": false,
    "pycharm": {
     "name": "#%% md\n"
    }
   }
  },
  {
   "cell_type": "code",
   "execution_count": null,
   "outputs": [],
   "source": [
    "# from https://github.com/CoreyMSchafer/code_snippets/blob/master/Object-Oriented/2-Class-Instance-Variables/oop.py\n",
    "class Employee:\n",
    "\n",
    "    def __init__(self, first, last, pay):\n",
    "        self.first = first\n",
    "        self.last = last\n",
    "        self.email = first + '.' + last + '@email.com'\n",
    "        self.pay = pay\n",
    "\n",
    "    def fullname(self):\n",
    "        return '{} {}'.format(self.first, self.last)\n",
    "\n",
    "emp_1 = Employee('John', 'Doe', 50000)\n",
    "emp_2 = Employee('Test', 'Employee', 60000)"
   ],
   "metadata": {
    "collapsed": false,
    "pycharm": {
     "name": "#%%\n"
    }
   }
  },
  {
   "cell_type": "markdown",
   "source": [
    "Here we have used the employee class, that has all the required attributes, to create a blueprint for each invividual case, or instance, of the class, i.e. each employee in a company\n",
    "\n",
    "This class has a few interesting features:\n",
    "* The init method.  Every class that will be instantiated needs an init method.  When we\n",
    "instantiate the class, python automatically calls the init method to create the specific instance.\n",
    "* The self variable: each function in a class automatically takes self as the first argument.  It gives the methods of the class access to the specific attributes of the instance\n",
    "\n",
    "\n",
    "\n",
    "Let's see a few more examples to get the hang of things."
   ],
   "metadata": {
    "collapsed": false,
    "pycharm": {
     "name": "#%% md\n"
    }
   }
  },
  {
   "cell_type": "code",
   "execution_count": 1,
   "outputs": [
    {
     "data": {
      "text/plain": "3.0"
     },
     "execution_count": 1,
     "metadata": {},
     "output_type": "execute_result"
    }
   ],
   "source": [
    "import numpy as np\n",
    "\n",
    "class CalculateStatistics:\n",
    "    # class that wraps calculation of basic statistics from a list of numbers\n",
    "    def __init__(self, numbers):\n",
    "        self.numbers = numbers\n",
    "\n",
    "    def mean(self):\n",
    "        return np.mean(self.numbers)\n",
    "\n",
    "    def stdev(self):\n",
    "        return np.stdev(self.numbers)\n",
    "\n",
    "\n",
    "some_numbers = [1,2,3,4,5]\n",
    "stats = CalculateStatistics(some_numbers)\n",
    "stats.mean()"
   ],
   "metadata": {
    "collapsed": false,
    "pycharm": {
     "name": "#%%\n"
    }
   }
  },
  {
   "cell_type": "markdown",
   "source": [
    "You can see that the instance of the class, `self`, is passed as the first variable to all of the methods.  This gives the methods access to the data specific to the instance.\n",
    "\n",
    "We can see that the has both attributes (`self.numbers`) and methods (`self.mean()`) associated with it.  This is in general how classes work - you give them specific data and methods that can act on those specific data types.\n",
    "Hopefully this makes sense in the context of what we looked at earlier in the course - when we instantiate a SKlearn model, pass it data and labels, and call the fit method,\n",
    " all we are doing is creating an instance of the class, with our specific data, and applying the class's methods to our data.\n",
    "\n",
    "This approach is at the core of object oriented programming.  It's a remarkably simple concept, but it's also incredibly powerful, and part of\n",
    "what makes Python such a good general purpose programming language.\n",
    "\n",
    "\n",
    "For a good set of in-depth tutorials on this, look through the videos here https://www.youtube.com/channel/UCCezIgC97PvUuR4_gbFUs5g"
   ],
   "metadata": {
    "collapsed": false,
    "pycharm": {
     "name": "#%% md\n"
    }
   }
  },
  {
   "cell_type": "markdown",
   "source": [
    "### Exercise set 1\n",
    "\n",
    "* Create a class to represent a car.  Think about what attributes the class should have (make, model, year, mileage etc), and what\n",
    "methods such a class should have to calculate various things about the car.  If you get stuck, or are looking for some inspiration,\n",
    "you will find a straightforward implementation below"
   ],
   "metadata": {
    "collapsed": false,
    "pycharm": {
     "name": "#%% md\n"
    }
   }
  },
  {
   "cell_type": "code",
   "execution_count": null,
   "outputs": [],
   "source": [],
   "metadata": {
    "collapsed": false,
    "pycharm": {
     "name": "#%%\n"
    }
   }
  },
  {
   "cell_type": "markdown",
   "source": [
    "### Inheritance\n",
    "\n",
    "Now we've got a feeling for simple classes, let's look at how we can extend their functionality"
   ],
   "metadata": {
    "collapsed": false,
    "pycharm": {
     "name": "#%% md\n"
    }
   }
  },
  {
   "cell_type": "code",
   "execution_count": 3,
   "outputs": [],
   "source": [
    "# basic implementation of the Car class\n",
    "\n",
    "class Car:\n",
    "    def __init__(self, make, model, year):\n",
    "        self.make = make\n",
    "        self.model = model\n",
    "        self.year = year\n",
    "        self.mileage = 0\n",
    "\n",
    "\n",
    "    def __repr__(self):\n",
    "        return f\"{self.year} {self.model}, {self.make}\"\n",
    "\n",
    "    def get_mileage(self):\n",
    "        return self.mileage\n",
    "\n",
    "    def update_mileage(self, mileage):\n",
    "        if mileage > self.mileage:\n",
    "            self.mileage = mileage\n",
    "\n",
    "\n"
   ],
   "metadata": {
    "collapsed": false,
    "pycharm": {
     "name": "#%%\n"
    }
   }
  },
  {
   "cell_type": "markdown",
   "source": [
    "A class like this represents a very broad class of cars, and we can imagine how we could use classes to represent templates for different types of cars.\n",
    "We'll use this to introduce the concept of class inheritance.\n",
    "\n",
    "For example, we could create an electric car subclass, that inherits from the broader car class.  We might do this if there are some attributes that would only apply\n",
    "to a specific subclass\n"
   ],
   "metadata": {
    "collapsed": false,
    "pycharm": {
     "name": "#%% md\n"
    }
   }
  },
  {
   "cell_type": "code",
   "execution_count": 5,
   "outputs": [
    {
     "name": "stdout",
     "output_type": "stream",
     "text": [
      "100\n",
      "99.0\n"
     ]
    }
   ],
   "source": [
    "class ElectricCar(Car):\n",
    "    def __init__(self, make, model, year):\n",
    "        super().__init__(make, model, year)\n",
    "        self.battery_health = 100\n",
    "\n",
    "    def adjust_battery_health(self):\n",
    "        # adjusts battery health based on the mileage of the car\n",
    "        self.battery_health -= 0.001 * self.mileage\n",
    "\n",
    "\n",
    "\n",
    "tesla = ElectricCar(\"tesla\", \"model 3\", \"2019\")\n",
    "print(tesla.battery_health)\n",
    "tesla.update_mileage(1000)\n",
    "tesla.adjust_battery_health()\n",
    "print(tesla.battery_health)\n",
    "\n"
   ],
   "metadata": {
    "collapsed": false,
    "pycharm": {
     "name": "#%%\n"
    }
   }
  },
  {
   "cell_type": "markdown",
   "source": [
    "## Exercise set 2 - Class inheritance\n",
    "\n",
    "1) Write a `motorbike` class that inherits from the Car class from above but adds methods and attributes for engine size\n",
    "\n",
    "2) Try it out: instantiate your motorcycle class, and make sure your new methods, as well as those from the parent class,\n",
    "work as you expect.\n",
    "\n",
    "\n",
    "\n"
   ],
   "metadata": {
    "collapsed": false,
    "pycharm": {
     "name": "#%% md\n"
    }
   }
  },
  {
   "cell_type": "markdown",
   "source": [
    "# Cool project time!\n",
    "\n",
    "As the final part of this course, I'm going to introduce one more cool python library that does cool stuff with the models we've built over the last few weeks.\n",
    "\n",
    "We're going to create some visualisations using the machine learning models we've introduced during the last few sessions.\n",
    "\n",
    "Here's one I made earlier...\n",
    "\n",
    "https://share.streamlit.io/jharrymoore/sklearn_gui/streamlit-app.py\n",
    "\n",
    "And if you want to refer to the source code later...\n",
    "\n",
    "https://github.com/jharrymoore/sklearn_gui\n",
    "\n",
    "Spend a few minutes playing around with it to get a feel for what we can do, then I'll show you how to do it.\n",
    "\n",
    "Hopefully you recognise some of the models and datasets from work we've done in the last few weeks!\n",
    "\n",
    "We'll use a python app called Streamlit which does all the frontend heavy lifting for us and creates beautiful apps programatically.  It's a really nice way to present and interact with data\n"
   ],
   "metadata": {
    "collapsed": false,
    "pycharm": {
     "name": "#%% md\n"
    }
   }
  },
  {
   "cell_type": "code",
   "execution_count": null,
   "outputs": [],
   "source": [
    "# in colab, you might need to restart your runtime after the pip install.  This is ok, and the import in the cell below should work after you restart\n",
    "!pip install streamlit\n"
   ],
   "metadata": {
    "collapsed": false,
    "pycharm": {
     "name": "#%%\n"
    }
   }
  },
  {
   "cell_type": "markdown",
   "source": [
    "### Instructions for running as an app\n",
    "You will find all the code you need to run the app yourself in the wekk8_app folder of the repo.\n",
    "\n",
    "\n",
    "#### Instructions for running app locally\n",
    "On your local machine, enter the following at the command line, assuming you have a local python install\n",
    "\n",
    "`pip install streamlit matplotlib scikit-learn numpy pandas`\n",
    "\n",
    "`cd week8_app # make sure you are in the week8_app directory`\n",
    "\n",
    "`streamlit run app.py`\n",
    "\n",
    "Paste the resulting url into your browser and the app should run locally for you.\n",
    "\n",
    "\n"
   ],
   "metadata": {
    "collapsed": false,
    "pycharm": {
     "name": "#%% md\n"
    }
   }
  },
  {
   "cell_type": "markdown",
   "source": [
    "Below I've included a minimal version of the script, with comments where you should add code to create additional functionality and features.\n"
   ],
   "metadata": {
    "collapsed": false,
    "pycharm": {
     "name": "#%% md\n"
    }
   }
  },
  {
   "cell_type": "code",
   "execution_count": null,
   "outputs": [],
   "source": [
    "# define some utility functions to do the underlying machine learning\n",
    "\n",
    "from sklearn.ensemble import RandomForestClassifier\n",
    "from sklearn.svm import SVC\n",
    "from sklearn import datasets\n",
    "import streamlit as st\n",
    "from sklearn.model_selection import train_test_split, cross_val_score\n",
    "from typing import Dict\n",
    "from sklearn.neighbors import KNeighborsClassifier\n",
    "\n",
    "def get_dataset_name(dataset_name: str):\n",
    "    if dataset_name.lower() == 'iris':\n",
    "        data = datasets.load_iris()\n",
    "    elif dataset_name.lower() == 'wine':\n",
    "        data = datasets.load_wine()\n",
    "    elif dataset_name.lower() == 'breast cancer':\n",
    "        data = datasets.load_breast_cancer()\n",
    "    else:\n",
    "        raise AssertionError('Dataset must be one of the provided options')\n",
    "    # 1) Split the training data into train and test fractions for the data and labels, make sure your variable names line up with the return values!\n",
    "\n",
    "    return X_train, X_test, y_train, y_test, data\n",
    "\n",
    "\n",
    "def add_ui_params(classifier_name):\n",
    "    params = {}\n",
    "    if classifier_name.lower() == 'knn':\n",
    "        K = st.sidebar.slider('K', 1, 15)\n",
    "        params['n_neighbors'] = K\n",
    "    elif classifier_name.lower() == 'svm':\n",
    "        c = st.sidebar.slider('C', 0.01, 10.0)\n",
    "        kernel = st.sidebar.selectbox('Kernel', ('linear', 'poly', 'rbf', 'sigmoid', 'precomputed'))\n",
    "        params['C'] = c\n",
    "        params['kernel'] = kernel\n",
    "    elif classifier_name.lower() == 'random forest':\n",
    "        max_depth = st.sidebar.slider('Max Depth', 2, 15)\n",
    "        num_trees = st.sidebar.slider('n_estimators', 1, 100)\n",
    "        params['max_depth'] = max_depth\n",
    "        params['n_estimators'] = num_trees\n",
    "    return params\n",
    "\n",
    "def get_classifier(clf_name: str, params: Dict):\n",
    "    # 2)\n",
    "    # write a function to instantiate the model\n",
    "    # the function takes the classifier name, and the parameter dictionary\n",
    "    # You can initialise the class directly from the dictionary by passing them as key word arguments\n",
    "\n",
    "\n",
    "    return model\n",
    "\n",
    "def train_model(model, X, y, metric, k_folds):\n",
    "    # 3)\n",
    "    # use cross val score to calculate the cross validation score the for model using the function's arguments\n",
    "\n",
    "\n",
    "    # use the fit method to train your model on the training data, make sure the variable names match the returned variable names!\n",
    "\n",
    "    return model, results, results.mean(), results.std()\n",
    "\n"
   ],
   "metadata": {
    "collapsed": false,
    "pycharm": {
     "name": "#%%\n"
    }
   }
  },
  {
   "cell_type": "code",
   "execution_count": null,
   "outputs": [],
   "source": [
    "# source code from https://github.com/jharrymoore/sklearn_gui\n",
    "\n",
    "import sklearn\n",
    "import streamlit as st\n",
    "import numpy as np\n",
    "import  matplotlib.pyplot as plt\n",
    "from sklearn.decomposition import PCA\n",
    "from sklearn.metrics import accuracy_score\n",
    "\n",
    "\n",
    "\n",
    "st.title('Machine Learning GUI')\n",
    "\n",
    "st.write('Example GUI application with a machine learning backend')\n",
    "\n",
    "\n",
    "dataset_name = st.sidebar.selectbox('Select Dataset',\n",
    "        ('Wine', 'Breast Cancer', 'Iris'))\n",
    "\n",
    "st.write(f'Dataset Name: {dataset_name}')\n",
    "\n",
    "classifier_name = st.sidebar.selectbox('Select Classifier',\n",
    "                    ('KNN', 'SVM', 'Random Forest'))\n",
    "\n",
    "\n",
    "\n",
    "X_train, X_test, y_train, y_test, data = get_dataset_name(dataset_name)\n",
    "\n",
    "\n",
    "st.write(f'Shape of the dataset is {X_train.shape}')\n",
    "st.write('Number of classes:', len(np.unique(data.target)))\n",
    "\n",
    "\n",
    "\n",
    "params = add_ui_params(classifier_name)\n",
    "\n",
    "\n",
    "model = get_classifier(classifier_name, params)\n",
    "\n",
    "k_folds = st.sidebar.slider('Cross Validation Folds', 2, 20)\n",
    "metric = st.sidebar.selectbox('Model performance metric', tuple(sklearn.metrics.SCORERS.keys()), index=11)\n",
    "\n",
    "\n",
    "fitted_model, accuracy, mean, std = train_model(model, X_train, y_train, metric, k_folds)\n",
    "y_pred = fitted_model.predict(X_test)\n",
    "test_set_accuracy = accuracy_score(y_test, y_pred)\n",
    "st.write('Cross validation Model Accuracy', mean)\n",
    "st.write('Test set accuracy:', test_set_accuracy)\n",
    "\n",
    "\n",
    "# plot the principle components\n",
    "\n",
    "pca = PCA(2)\n",
    "\n",
    "x_proj = pca.fit_transform(data.data)\n",
    "\n",
    "x1 = x_proj[:, 0]\n",
    "x2 = x_proj[:,1]\n",
    "\n",
    "fig = plt.figure()\n",
    "plt.scatter(x1, x2, c=data.target, alpha=0.8, cmap='viridis')\n",
    "plt.xlabel('PC1')\n",
    "plt.ylabel('PC2')\n",
    "plt.colorbar()\n",
    "\n",
    "st.pyplot(fig)\n",
    "\n",
    "\n",
    "\n"
   ],
   "metadata": {
    "collapsed": false,
    "pycharm": {
     "name": "#%%\n"
    }
   }
  }
 ],
 "metadata": {
  "kernelspec": {
   "display_name": "Python 3",
   "language": "python",
   "name": "python3"
  },
  "language_info": {
   "codemirror_mode": {
    "name": "ipython",
    "version": 2
   },
   "file_extension": ".py",
   "mimetype": "text/x-python",
   "name": "python",
   "nbconvert_exporter": "python",
   "pygments_lexer": "ipython2",
   "version": "2.7.6"
  }
 },
 "nbformat": 4,
 "nbformat_minor": 0
}