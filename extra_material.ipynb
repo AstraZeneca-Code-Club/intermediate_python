At this point you'll have heard me talk extensively about objects in Python.  They are the central idea of Python, and many other languages,
which provide a powerful abstraction to help you write code better.

Today I'll introduce you to the idea of classes in Python, and walk you through creating classes to represent key concepts




### Obejct Oriented Programming

* Introduction to object orientation

Every data structure, machine learning model, function, etc we have introduced so far is an object in Python.  In Python (and other languages that support OOP),
we write classes that represent abstractions of real world objects, and instances of those classes to represent the specific object.  (You'll have heard me refer to instantiating SKlearn classes when we define a model for example)

Today we'll go in depth into how classes work, and how to write clear, legible and easily extendable code in an OOP framework.


### Part 1: Introduction to classes and OOP

#%% md

Classes represent the 'general case', or blueprint, of a specific type of object.  In many python tutorials,
this is introduced in the context of employees in a company.  That might look something like this...

#%%

# from https://github.com/CoreyMSchafer/code_snippets/blob/master/Object-Oriented/2-Class-Instance-Variables/oop.py
class Employee:

    def __init__(self, first, last, pay):
        self.first = first
        self.last = last
        self.email = first + '.' + last + '@email.com'
        self.pay = pay

    def fullname(self):
        return '{} {}'.format(self.first, self.last)

emp_1 = Employee('John', 'Doe', 50000)
emp_2 = Employee('Test', 'Employee', 60000)

#%% md

Here we have used the employee class, that has all the required attributes, to create a blueprint for each invividual case, or instance, of the class, i.e. each employee in a company

This class has a few interesting features:
* The init method.  Every class that will be instantiated needs an init method.  When we
instantiate the class, python automatically calls the init method to create the specific instance.
* The self variable: each function in a class automatically takes self as the first argument.  It gives the methods of the class access to the specific attributes of the instance



Let's see a few more examples to get the hang of things.

#%%

import numpy as np

class CalculateStatistics:
    # class that wraps calculation of basic statistics from a list of numbers
    def __init__(self, numbers):
        self.numbers = numbers

    def mean(self):
        return np.mean(self.numbers)

    def stdev(self):
        return np.stdev(self.numbers)


some_numbers = [1,2,3,4,5]
stats = CalculateStatistics(some_numbers)
stats.mean()

#%% md

You can see that the instance of the class, `self`, is passed as the first variable to all of the methods.  This gives the methods access to the data specific to the instance.

We can see that the has both attributes (`self.numbers`) and methods (`self.mean()`) associated with it.  This is in general how classes work - you give them specific data and methods that can act on those specific data types.
Hopefully this makes sense in the context of what we looked at earlier in the course - when we instantiate a SKlearn model, pass it data and labels, and call the fit method,
 all we are doing is creating an instance of the class, with our specific data, and applying the class's methods to our data.

This approach is at the core of object oriented programming.  It's a remarkably simple concept, but it's also incredibly powerful, and part of
what makes Python such a good general purpose programming language.


For a good set of in-depth tutorials on this, look through the videos here https://www.youtube.com/channel/UCCezIgC97PvUuR4_gbFUs5g

#%% md

### Exercise set 1

* Create a class to represent a car.  Think about what attributes the class should have (make, model, year, mileage etc), and what
methods such a class should have to calculate various things about the car.  If you get stuck, or are looking for some inspiration,
you will find a straightforward implementation below

#%%



#%% md

### Inheritance

Now we've got a feeling for simple classes, let's look at how we can extend their functionality

#%%

# basic implementation of the Car class

class Car:
    def __init__(self, make, model, year):
        self.make = make
        self.model = model
        self.year = year
        self.mileage = 0


    def __repr__(self):
        return f"{self.year} {self.model}, {self.make}"

    def get_mileage(self):
        return self.mileage

    def update_mileage(self, mileage):
        if mileage > self.mileage:
            self.mileage = mileage




#%% md

A class like this represents a very broad class of cars, and we can imagine how we could use classes to represent templates for different types of cars.
We'll use this to introduce the concept of class inheritance.

For example, we could create an electric car subclass, that inherits from the broader car class.  We might do this if there are some attributes that would only apply
to a specific subclass


#%%

class ElectricCar(Car):
    def __init__(self, make, model, year):
        super().__init__(make, model, year)
        self.battery_health = 100

    def adjust_battery_health(self):
        # adjusts battery health based on the mileage of the car
        self.battery_health -= 0.001 * self.mileage



tesla = ElectricCar("tesla", "model 3", "2019")
print(tesla.battery_health)
tesla.update_mileage(1000)
tesla.adjust_battery_health()
print(tesla.battery_health)



#%% md

## Exercise set 2 - Class inheritance

1) Write a `motorbike` class that inherits from the Car class from above but adds methods and attributes for engine size

2) Try it out: instantiate your motorcycle class, and make sure your new methods, as well as those from the parent class,
work as you expect.
