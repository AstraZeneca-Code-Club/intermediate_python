{
 "cells": [
  {
   "cell_type": "markdown",
   "metadata": {},
   "source": [
    "# Intermediate Python - Week 1\n",
    "\n",
    "Welcome to the Intermediate Python course!\n",
    "\n",
    "We will be focussing on getting familiar with Python using examples that you might come across in your day-to-day work.\n",
    "During this course, you will get familiar with Python for automating data analysis, creating publication-quality graphics,\n",
    "and we will touch upon machine learning.  We are assuming you are somewhat familiar with Python (or another object-oriented-language),\n",
    "since we will not cover the basics of syntax and login in as much detail as the beginner course.\n",
    "\n",
    "The course will be taught primarily through Jupyter notebooks, although it will take the form of an initial introduction from us,\n",
    "followed by plenty of problem-solving with help from us when required\n",
    "\n",
    "We will use individual break out rooms to talk through specific problems with one of us.\n",
    "There will be plenty of content in the notebooks, which you should work through at your own pace during the workshop\n",
    "sessions.  Anything left over can be completed as homework before the next session."
   ]
  },
  {
   "cell_type": "markdown",
   "metadata": {},
   "source": [
    "## Goals for Week 1\n",
    "_____\n",
    "* Understand Python's library of external packages\n",
    "* Introduction to environments and package management\n",
    "* Gentle introduction to numpy"
   ]
  },
  {
   "cell_type": "markdown",
   "metadata": {},
   "source": [
    "### Expanding on the standard library: packages, package managers and environments\n",
    "_____"
   ]
  },
  {
   "cell_type": "markdown",
   "metadata": {},
   "source": [
    "Python, like many languages, has an extensive library of modules - packaged up python code - that extend it's basic functionality and allows you to use python for many task-specific things without having to reinvent the wheel.  We will make extensive use of these packages in the coming weeks.\n",
    "\n",
    "We can install external packages using a package manager like `pip` or `conda`, e.g. `pip install numpy` will, by default, install the latest version of numpy it can find.\n",
    "\n",
    "You can imagine that having lots of packages available to the system python interpreter could get messy! What if two packages require a different version of numpy?\n",
    "\n",
    "To solve this problem we create isolated environments, where the python interpreter can only access certain packages that we control.  This will be crucial in a few weeks when we start to explore writing your own standaline programs outside of a jupyter notebook.\n",
    "\n"
   ]
  },
  {
   "cell_type": "markdown",
   "metadata": {},
   "source": [
    "### A worked useful of external packages - Introduction to NumPy and matplotlib"
   ]
  },
  {
   "cell_type": "markdown",
   "metadata": {},
   "source": [
    "NumPy (Numerical Python) is Python's <i> de facto <i/> linear algebra package - it provides support for working and operating on matrices.  It introduces the array datatype and associated linear algebra methods for fast matrix computation - think list of lists but much faster!\n",
    "\n",
    "Let's get some practice with the basics of NumPy and handling array data"
   ]
  },
  {
   "cell_type": "code",
   "execution_count": 1,
   "metadata": {},
   "outputs": [],
   "source": [
    "import numpy as np"
   ]
  },
  {
   "cell_type": "markdown",
   "metadata": {},
   "source": [
    "A fundamental (but often overlooked) component of writing code is writing useful documentation that goes along with it - all of the modules we will be using have thorough documentation that describes what each function does, the expected arguments, what it will return and in most cases an example, e.g...."
   ]
  },
  {
   "cell_type": "code",
   "execution_count": 2,
   "metadata": {},
   "outputs": [
    {
     "name": "stdout",
     "output_type": "stream",
     "text": [
      "Help on built-in function array in module numpy:\n",
      "\n",
      "array(...)\n",
      "    array(object, dtype=None, *, copy=True, order='K', subok=False, ndmin=0,\n",
      "          like=None)\n",
      "    \n",
      "    Create an array.\n",
      "    \n",
      "    Parameters\n",
      "    ----------\n",
      "    object : array_like\n",
      "        An array, any object exposing the array interface, an object whose\n",
      "        __array__ method returns an array, or any (nested) sequence.\n",
      "    dtype : data-type, optional\n",
      "        The desired data-type for the array.  If not given, then the type will\n",
      "        be determined as the minimum type required to hold the objects in the\n",
      "        sequence.\n",
      "    copy : bool, optional\n",
      "        If true (default), then the object is copied.  Otherwise, a copy will\n",
      "        only be made if __array__ returns a copy, if obj is a nested sequence,\n",
      "        or if a copy is needed to satisfy any of the other requirements\n",
      "        (`dtype`, `order`, etc.).\n",
      "    order : {'K', 'A', 'C', 'F'}, optional\n",
      "        Specify the memory layout of the array. If object is not an array, the\n",
      "        newly created array will be in C order (row major) unless 'F' is\n",
      "        specified, in which case it will be in Fortran order (column major).\n",
      "        If object is an array the following holds.\n",
      "    \n",
      "        ===== ========= ===================================================\n",
      "        order  no copy                     copy=True\n",
      "        ===== ========= ===================================================\n",
      "        'K'   unchanged F & C order preserved, otherwise most similar order\n",
      "        'A'   unchanged F order if input is F and not C, otherwise C order\n",
      "        'C'   C order   C order\n",
      "        'F'   F order   F order\n",
      "        ===== ========= ===================================================\n",
      "    \n",
      "        When ``copy=False`` and a copy is made for other reasons, the result is\n",
      "        the same as if ``copy=True``, with some exceptions for 'A', see the\n",
      "        Notes section. The default order is 'K'.\n",
      "    subok : bool, optional\n",
      "        If True, then sub-classes will be passed-through, otherwise\n",
      "        the returned array will be forced to be a base-class array (default).\n",
      "    ndmin : int, optional\n",
      "        Specifies the minimum number of dimensions that the resulting\n",
      "        array should have.  Ones will be pre-pended to the shape as\n",
      "        needed to meet this requirement.\n",
      "    like : array_like\n",
      "        Reference object to allow the creation of arrays which are not\n",
      "        NumPy arrays. If an array-like passed in as ``like`` supports\n",
      "        the ``__array_function__`` protocol, the result will be defined\n",
      "        by it. In this case, it ensures the creation of an array object\n",
      "        compatible with that passed in via this argument.\n",
      "    \n",
      "        .. versionadded:: 1.20.0\n",
      "    \n",
      "    Returns\n",
      "    -------\n",
      "    out : ndarray\n",
      "        An array object satisfying the specified requirements.\n",
      "    \n",
      "    See Also\n",
      "    --------\n",
      "    empty_like : Return an empty array with shape and type of input.\n",
      "    ones_like : Return an array of ones with shape and type of input.\n",
      "    zeros_like : Return an array of zeros with shape and type of input.\n",
      "    full_like : Return a new array with shape of input filled with value.\n",
      "    empty : Return a new uninitialized array.\n",
      "    ones : Return a new array setting values to one.\n",
      "    zeros : Return a new array setting values to zero.\n",
      "    full : Return a new array of given shape filled with value.\n",
      "    \n",
      "    \n",
      "    Notes\n",
      "    -----\n",
      "    When order is 'A' and `object` is an array in neither 'C' nor 'F' order,\n",
      "    and a copy is forced by a change in dtype, then the order of the result is\n",
      "    not necessarily 'C' as expected. This is likely a bug.\n",
      "    \n",
      "    Examples\n",
      "    --------\n",
      "    >>> np.array([1, 2, 3])\n",
      "    array([1, 2, 3])\n",
      "    \n",
      "    Upcasting:\n",
      "    \n",
      "    >>> np.array([1, 2, 3.0])\n",
      "    array([ 1.,  2.,  3.])\n",
      "    \n",
      "    More than one dimension:\n",
      "    \n",
      "    >>> np.array([[1, 2], [3, 4]])\n",
      "    array([[1, 2],\n",
      "           [3, 4]])\n",
      "    \n",
      "    Minimum dimensions 2:\n",
      "    \n",
      "    >>> np.array([1, 2, 3], ndmin=2)\n",
      "    array([[1, 2, 3]])\n",
      "    \n",
      "    Type provided:\n",
      "    \n",
      "    >>> np.array([1, 2, 3], dtype=complex)\n",
      "    array([ 1.+0.j,  2.+0.j,  3.+0.j])\n",
      "    \n",
      "    Data-type consisting of more than one element:\n",
      "    \n",
      "    >>> x = np.array([(1,2),(3,4)],dtype=[('a','<i4'),('b','<i4')])\n",
      "    >>> x['a']\n",
      "    array([1, 3])\n",
      "    \n",
      "    Creating an array from sub-classes:\n",
      "    \n",
      "    >>> np.array(np.mat('1 2; 3 4'))\n",
      "    array([[1, 2],\n",
      "           [3, 4]])\n",
      "    \n",
      "    >>> np.array(np.mat('1 2; 3 4'), subok=True)\n",
      "    matrix([[1, 2],\n",
      "            [3, 4]])\n",
      "\n"
     ]
    }
   ],
   "source": [
    "help(np.array)"
   ]
  },
  {
   "cell_type": "markdown",
   "metadata": {},
   "source": [
    "We can initialise an array object in a few ways:\n",
    "* `a = np.arange(5)` 1D array of 20 consecutive elements i.e. np.array([0,1,2,3,4])\n",
    "* using `np.linspace()`\n",
    "* passing list objects to `np.array()` which can be converted into an array (use nested lists for multi-dimentional lists).\n",
    "* Initialising an array of arbitrary dimensions where each element is the same  - `np.zeros()`, `np.ones()`\n"
   ]
  },
  {
   "cell_type": "code",
   "execution_count": 8,
   "metadata": {},
   "outputs": [
    {
     "data": {
      "text/plain": "array([[ 0,  1,  2,  3,  4],\n       [ 5,  6,  7,  8,  9],\n       [10, 11, 12, 13, 14]])"
     },
     "execution_count": 8,
     "metadata": {},
     "output_type": "execute_result"
    }
   ],
   "source": [
    "# create a 1D array with 20 elements using np.arange()\n",
    "# ------------------------------------\n",
    "a = np.arange(15)\n",
    "\n",
    "# now use the array's reshape method to reshape your array to have dimensions 4x5\n",
    "# ------------------------------------\n",
    "b = a.reshape(3,5)\n",
    "b"
   ]
  },
  {
   "cell_type": "code",
   "execution_count": 18,
   "metadata": {},
   "outputs": [],
   "source": [
    "# Another way to initialise arrays is from nested lists. Create a 3x3 array from lists:\n",
    "# Create a 3x4 array using list initialisation\n",
    "# ------------------------------------\n",
    "\n"
   ]
  },
  {
   "cell_type": "markdown",
   "metadata": {},
   "source": [
    "We can inspect some properties of the arrays we've created, using methods of the array class"
   ]
  },
  {
   "cell_type": "code",
   "execution_count": 13,
   "metadata": {},
   "outputs": [
    {
     "name": "stdout",
     "output_type": "stream",
     "text": [
      "(20,)\n",
      "<class 'numpy.ndarray'>\n",
      "int64\n"
     ]
    }
   ],
   "source": [
    "# print the shape of the array using the array's `shape` method\n",
    "# ------------------------------------\n",
    "\n",
    "# print the array's datatype using Python's built-in `type` function\n",
    "# ------------------------------------\n",
    "\n",
    "# get the internal datatype the array is storing by accessing the name attribute of the array's `dtype` ie array.dtype.name\n"
   ]
  },
  {
   "cell_type": "markdown",
   "metadata": {},
   "source": [
    "#### Fundamental operations on arrays\n",
    "\n",
    "Now that we know a few ways to initialise arrays, we can think about the operations we can perform on them - in general, we can perform any mathematically valid operation on an array."
   ]
  },
  {
   "cell_type": "code",
   "execution_count": 9,
   "metadata": {},
   "outputs": [
    {
     "data": {
      "text/plain": "array([ 7,  9, 11, 13, 15])"
     },
     "execution_count": 9,
     "metadata": {},
     "output_type": "execute_result"
    }
   ],
   "source": [
    "# define two matrices of the same size and add them together\n",
    "# ------------------------------------\n",
    "\n",
    "# add an integer, elementwise, to the array\n",
    "# ------------------------------------\n"
   ]
  },
  {
   "cell_type": "code",
   "execution_count": 10,
   "metadata": {},
   "outputs": [
    {
     "data": {
      "text/plain": "array([ 0.84147098,  0.90929743,  0.14112001, -0.7568025 , -0.95892427])"
     },
     "execution_count": 10,
     "metadata": {},
     "output_type": "execute_result"
    }
   ],
   "source": [
    "# define a matrix and apply the sinusoid function to it.  Then print the elementwise square of the result\n",
    "# ------------------------------------\n"
   ]
  },
  {
   "cell_type": "code",
   "execution_count": 28,
   "metadata": {},
   "outputs": [
    {
     "name": "stdout",
     "output_type": "stream",
     "text": [
      "[[2 2 2]\n",
      " [2 2 2]]\n",
      "[[0.97359209 0.31567806 0.33294839 0.0373183  0.32544297]\n",
      " [0.45715937 0.66729532 0.41529075 0.04081766 0.36436942]\n",
      " [0.2254244  0.54170689 0.80640768 0.06205257 0.44744193]]\n"
     ]
    },
    {
     "data": {
      "text/plain": "1.0"
     },
     "execution_count": 28,
     "metadata": {},
     "output_type": "execute_result"
    }
   ],
   "source": [
    "# Now some linear algebra\n",
    "a = np.full((2,3), 2)\n",
    "b = np.random.random((3,5))\n",
    "print(a)\n",
    "print(b)\n",
    "c = np.matmul(a,b)\n",
    "c\n",
    "\n",
    "# calculate the detminant of a matrix\n",
    "\n",
    "c = np.identity(3)\n",
    "\n",
    "det = np.linalg.det(c)\n",
    "det"
   ]
  },
  {
   "cell_type": "markdown",
   "metadata": {},
   "source": [
    "### Indexing, slicing and iterating over matrices\n",
    "\n",
    "* A one dimensional array can be iterated over in the same way as you could for a regular list object.\n",
    "* Indexing and slicing follows a familiar syntax as lists too\n"
   ]
  },
  {
   "cell_type": "code",
   "execution_count": null,
   "metadata": {},
   "outputs": [],
   "source": []
  },
  {
   "cell_type": "code",
   "execution_count": 17,
   "metadata": {},
   "outputs": [
    {
     "name": "stdout",
     "output_type": "stream",
     "text": [
      "0\n",
      "1\n",
      "2\n",
      "3\n",
      "4\n",
      "5\n",
      "6\n",
      "7\n",
      "8\n",
      "9\n",
      "\n",
      "\n",
      " 1\n",
      "[3 4 5 6 7 8 9]\n"
     ]
    }
   ],
   "source": [
    "# create a one dimentional matrix of at least 10 elements, iterate over it using a `for` loop, printing each value in turn\n",
    "# ------------------------------------\n",
    "a = np.arange(10)\n",
    "for i in a:\n",
    "    print(i)\n",
    "\n",
    "# now retrieve the 2nd element of the array same syntax as indexing a list\n",
    "# ------------------------------------\n",
    "\n",
    "\n",
    "# print all elements from the 3rd to the end\n",
    "# ------------------------------------\n"
   ]
  },
  {
   "cell_type": "code",
   "execution_count": 38,
   "metadata": {},
   "outputs": [
    {
     "name": "stdout",
     "output_type": "stream",
     "text": [
      "[[ 8  9]\n",
      " [13 14]]\n"
     ]
    }
   ],
   "source": [
    "# what happens when we try the same things with a two dimensional array?\n",
    "# Initialise one using any appropriate method from above, \n",
    "# ------------------------------------\n",
    "\n",
    "\n",
    "# By convention, indexing of 2d arrays is done as [rows, cols]\n",
    "# ------------------------------------\n",
    "\n",
    "\n",
    "# now try iterating over it using the same construct as before, print the result.  Is this what you expected?\n",
    "# ------------------------------------\n",
    "\n"
   ]
  },
  {
   "cell_type": "code",
   "execution_count": 27,
   "metadata": {},
   "outputs": [],
   "source": [
    "# If you want to iterate over each element of the matrix, you need to iterate over the .flat attribute of the array object.  See if you can print each individual element of the array you created above.\n",
    "# ------------------------------------\n",
    "\n"
   ]
  },
  {
   "cell_type": "markdown",
   "metadata": {
    "pycharm": {
     "name": "#%% md\n"
    }
   },
   "source": [
    "Now it's your turn! In the code cell below, see if you can produce the following matrix without writing it out manually!\n",
    "\n",
    "| 1 | 1 | 1 | 1 | 1 |\n",
    "|---|---|---|---|---|\n",
    "| 1 | 0 | 0 | 0 | 1 |\n",
    "| 1 | 0 | 1 | 0 | 0 |\n",
    "| 1 | 0 | 0 | 0 | 1 |\n",
    "| 1 | 1 | 1 | 1 | 1 |\n"
   ]
  },
  {
   "cell_type": "markdown",
   "metadata": {
    "pycharm": {
     "name": "#%% md\n"
    }
   },
   "source": [
    "now see if you can initialise the following matrix and retrieve the parts that have been highlighted?"
   ]
  },
  {
   "cell_type": "code",
   "execution_count": null,
   "outputs": [],
   "source": [],
   "metadata": {
    "collapsed": false,
    "pycharm": {
     "name": "#%%\n"
    }
   }
  },
  {
   "cell_type": "markdown",
   "source": [
    "### Concatenating arrays\n",
    "\n",
    "Numpy provides a few ways to concatenate arrays"
   ],
   "metadata": {
    "collapsed": false,
    "pycharm": {
     "name": "#%% md\n"
    }
   }
  },
  {
   "cell_type": "code",
   "execution_count": 10,
   "outputs": [],
   "source": [
    "# Concatenate arrays into a single dimention\n",
    "a1 = np.arange(4).reshape(2,2)\n",
    "b1 = np.array([5,6])\n",
    "\n"
   ],
   "metadata": {
    "collapsed": false,
    "pycharm": {
     "name": "#%%\n"
    }
   }
  },
  {
   "cell_type": "code",
   "execution_count": 9,
   "outputs": [
    {
     "data": {
      "text/plain": "array([[1, 2, 3, 4],\n       [5, 6, 7, 8]])"
     },
     "execution_count": 9,
     "metadata": {},
     "output_type": "execute_result"
    }
   ],
   "source": [
    "a = np.array([1,2,3,4])\n",
    "b = np.array([5,6,7,8])\n",
    "\n",
    "d = np.vstack((a,b))\n",
    "d"
   ],
   "metadata": {
    "collapsed": false,
    "pycharm": {
     "name": "#%%\n"
    }
   }
  },
  {
   "cell_type": "code",
   "execution_count": null,
   "outputs": [],
   "source": [],
   "metadata": {
    "collapsed": false,
    "pycharm": {
     "name": "#%%\n"
    }
   }
  }
 ],
 "metadata": {
  "kernelspec": {
   "name": "python3",
   "language": "python",
   "display_name": "Python 3"
  },
  "language_info": {
   "codemirror_mode": {
    "name": "ipython",
    "version": 3
   },
   "file_extension": ".py",
   "mimetype": "text/x-python",
   "name": "python",
   "nbconvert_exporter": "python",
   "pygments_lexer": "ipython3",
   "version": "3.8.8"
  }
 },
 "nbformat": 4,
 "nbformat_minor": 4
}