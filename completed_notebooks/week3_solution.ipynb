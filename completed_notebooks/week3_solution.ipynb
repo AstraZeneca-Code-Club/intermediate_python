{
 "cells": [
  {
   "cell_type": "markdown",
   "metadata": {
    "pycharm": {
     "name": "#%% md\n"
    }
   },
   "source": [
    "# Introduction to Matplotlib and Seaborn\n",
    "\n",
    "## Goals\n",
    "-----\n",
    "* understand the central concepts for plotting beautiful figures using matplotlib\n",
    "* get used to seaborn as a higher level plotting package\n",
    "\n",
    "\n",
    "This week we will be using the packages `matplotlib` and `seaborn` to visualise our breast cancer dataset from last week. It's important to be able to both visualise data (usually from dataframes) and plot results of any analysis you have carried out on the data. The plotting functions you use in these two scenarios will overlap a considerable amount, so we will just focus on generating plots to visualise the original data, without doing too much processing of the data first. "
   ]
  },
  {
   "cell_type": "markdown",
   "metadata": {},
   "source": [
    "### Loading the required modules and data\n",
    "\n",
    "We will need a few more modules than we have on previous weeks, as you can see below. We also import the same data that we used last week (the METABRIC dataset)."
   ]
  },
  {
   "cell_type": "code",
   "execution_count": 2,
   "metadata": {},
   "outputs": [],
   "source": [
    "import numpy as np\n",
    "import pandas as pd\n",
    "\n",
    "import matplotlib.pyplot as plt\n",
    "import seaborn as sns"
   ]
  },
  {
   "cell_type": "markdown",
   "metadata": {},
   "source": [
    "A quick note for anyone who has seen The West Wing - by convention `seaborn` is imported as `sns`. This is a joked initialism relating to Samuel Norman 'Sam' Seaborn who is a character on The West Wing. The creator of the seaborn package has also written other packages such as `moss` (Donna Moss) and `lyman` (Josh Lyman)."
   ]
  },
  {
   "cell_type": "code",
   "execution_count": 3,
   "metadata": {},
   "outputs": [
    {
     "data": {
      "text/html": [
       "<div>\n",
       "<style scoped>\n",
       "    .dataframe tbody tr th:only-of-type {\n",
       "        vertical-align: middle;\n",
       "    }\n",
       "\n",
       "    .dataframe tbody tr th {\n",
       "        vertical-align: top;\n",
       "    }\n",
       "\n",
       "    .dataframe thead th {\n",
       "        text-align: right;\n",
       "    }\n",
       "</style>\n",
       "<table border=\"1\" class=\"dataframe\">\n",
       "  <thead>\n",
       "    <tr style=\"text-align: right;\">\n",
       "      <th></th>\n",
       "      <th>Patient_ID</th>\n",
       "      <th>Cohort</th>\n",
       "      <th>Age_at_diagnosis</th>\n",
       "      <th>Survival_time</th>\n",
       "      <th>Survival_status</th>\n",
       "      <th>Vital_status</th>\n",
       "      <th>Chemotherapy</th>\n",
       "      <th>Radiotherapy</th>\n",
       "      <th>Tumour_size</th>\n",
       "      <th>Tumour_stage</th>\n",
       "      <th>...</th>\n",
       "      <th>Integrative_cluster</th>\n",
       "      <th>Mutation_count</th>\n",
       "      <th>ESR1</th>\n",
       "      <th>ERBB2</th>\n",
       "      <th>PGR</th>\n",
       "      <th>TP53</th>\n",
       "      <th>PIK3CA</th>\n",
       "      <th>GATA3</th>\n",
       "      <th>FOXA1</th>\n",
       "      <th>MLPH</th>\n",
       "    </tr>\n",
       "  </thead>\n",
       "  <tbody>\n",
       "    <tr>\n",
       "      <th>0</th>\n",
       "      <td>MB-0000</td>\n",
       "      <td>1</td>\n",
       "      <td>75.65</td>\n",
       "      <td>140.500000</td>\n",
       "      <td>LIVING</td>\n",
       "      <td>Living</td>\n",
       "      <td>NO</td>\n",
       "      <td>YES</td>\n",
       "      <td>22.0</td>\n",
       "      <td>2.0</td>\n",
       "      <td>...</td>\n",
       "      <td>4ER+</td>\n",
       "      <td>NaN</td>\n",
       "      <td>8.929817</td>\n",
       "      <td>9.333972</td>\n",
       "      <td>5.680501</td>\n",
       "      <td>6.338739</td>\n",
       "      <td>5.704157</td>\n",
       "      <td>6.932146</td>\n",
       "      <td>7.953794</td>\n",
       "      <td>9.729728</td>\n",
       "    </tr>\n",
       "    <tr>\n",
       "      <th>1</th>\n",
       "      <td>MB-0002</td>\n",
       "      <td>1</td>\n",
       "      <td>43.19</td>\n",
       "      <td>84.633333</td>\n",
       "      <td>LIVING</td>\n",
       "      <td>Living</td>\n",
       "      <td>NO</td>\n",
       "      <td>YES</td>\n",
       "      <td>10.0</td>\n",
       "      <td>1.0</td>\n",
       "      <td>...</td>\n",
       "      <td>4ER+</td>\n",
       "      <td>2.0</td>\n",
       "      <td>10.047059</td>\n",
       "      <td>9.729606</td>\n",
       "      <td>7.505424</td>\n",
       "      <td>6.192507</td>\n",
       "      <td>5.757727</td>\n",
       "      <td>11.251197</td>\n",
       "      <td>11.843989</td>\n",
       "      <td>12.536570</td>\n",
       "    </tr>\n",
       "    <tr>\n",
       "      <th>2</th>\n",
       "      <td>MB-0005</td>\n",
       "      <td>1</td>\n",
       "      <td>48.87</td>\n",
       "      <td>163.700000</td>\n",
       "      <td>DECEASED</td>\n",
       "      <td>Died of Disease</td>\n",
       "      <td>YES</td>\n",
       "      <td>NO</td>\n",
       "      <td>15.0</td>\n",
       "      <td>2.0</td>\n",
       "      <td>...</td>\n",
       "      <td>3</td>\n",
       "      <td>2.0</td>\n",
       "      <td>10.041281</td>\n",
       "      <td>9.725825</td>\n",
       "      <td>7.376123</td>\n",
       "      <td>6.404516</td>\n",
       "      <td>6.751566</td>\n",
       "      <td>9.289758</td>\n",
       "      <td>11.698169</td>\n",
       "      <td>10.306115</td>\n",
       "    </tr>\n",
       "    <tr>\n",
       "      <th>3</th>\n",
       "      <td>MB-0006</td>\n",
       "      <td>1</td>\n",
       "      <td>47.68</td>\n",
       "      <td>164.933333</td>\n",
       "      <td>LIVING</td>\n",
       "      <td>Living</td>\n",
       "      <td>YES</td>\n",
       "      <td>YES</td>\n",
       "      <td>25.0</td>\n",
       "      <td>2.0</td>\n",
       "      <td>...</td>\n",
       "      <td>9</td>\n",
       "      <td>1.0</td>\n",
       "      <td>10.404685</td>\n",
       "      <td>10.334979</td>\n",
       "      <td>6.815637</td>\n",
       "      <td>6.869241</td>\n",
       "      <td>7.219187</td>\n",
       "      <td>8.667723</td>\n",
       "      <td>11.863379</td>\n",
       "      <td>10.472181</td>\n",
       "    </tr>\n",
       "    <tr>\n",
       "      <th>4</th>\n",
       "      <td>MB-0008</td>\n",
       "      <td>1</td>\n",
       "      <td>76.97</td>\n",
       "      <td>41.366667</td>\n",
       "      <td>DECEASED</td>\n",
       "      <td>Died of Disease</td>\n",
       "      <td>YES</td>\n",
       "      <td>YES</td>\n",
       "      <td>40.0</td>\n",
       "      <td>2.0</td>\n",
       "      <td>...</td>\n",
       "      <td>9</td>\n",
       "      <td>2.0</td>\n",
       "      <td>11.276581</td>\n",
       "      <td>9.956267</td>\n",
       "      <td>7.331223</td>\n",
       "      <td>6.337951</td>\n",
       "      <td>5.817818</td>\n",
       "      <td>9.719781</td>\n",
       "      <td>11.625006</td>\n",
       "      <td>12.161961</td>\n",
       "    </tr>\n",
       "  </tbody>\n",
       "</table>\n",
       "<p>5 rows × 32 columns</p>\n",
       "</div>"
      ],
      "text/plain": [
       "  Patient_ID  Cohort  Age_at_diagnosis  Survival_time Survival_status  \\\n",
       "0    MB-0000       1             75.65     140.500000          LIVING   \n",
       "1    MB-0002       1             43.19      84.633333          LIVING   \n",
       "2    MB-0005       1             48.87     163.700000        DECEASED   \n",
       "3    MB-0006       1             47.68     164.933333          LIVING   \n",
       "4    MB-0008       1             76.97      41.366667        DECEASED   \n",
       "\n",
       "      Vital_status Chemotherapy Radiotherapy  Tumour_size  Tumour_stage  ...  \\\n",
       "0           Living           NO          YES         22.0           2.0  ...   \n",
       "1           Living           NO          YES         10.0           1.0  ...   \n",
       "2  Died of Disease          YES           NO         15.0           2.0  ...   \n",
       "3           Living          YES          YES         25.0           2.0  ...   \n",
       "4  Died of Disease          YES          YES         40.0           2.0  ...   \n",
       "\n",
       "   Integrative_cluster  Mutation_count       ESR1      ERBB2       PGR  \\\n",
       "0                 4ER+             NaN   8.929817   9.333972  5.680501   \n",
       "1                 4ER+             2.0  10.047059   9.729606  7.505424   \n",
       "2                    3             2.0  10.041281   9.725825  7.376123   \n",
       "3                    9             1.0  10.404685  10.334979  6.815637   \n",
       "4                    9             2.0  11.276581   9.956267  7.331223   \n",
       "\n",
       "       TP53    PIK3CA      GATA3      FOXA1       MLPH  \n",
       "0  6.338739  5.704157   6.932146   7.953794   9.729728  \n",
       "1  6.192507  5.757727  11.251197  11.843989  12.536570  \n",
       "2  6.404516  6.751566   9.289758  11.698169  10.306115  \n",
       "3  6.869241  7.219187   8.667723  11.863379  10.472181  \n",
       "4  6.337951  5.817818   9.719781  11.625006  12.161961  \n",
       "\n",
       "[5 rows x 32 columns]"
      ]
     },
     "execution_count": 3,
     "metadata": {},
     "output_type": "execute_result"
    }
   ],
   "source": [
    "metabric = pd.read_csv('https://raw.githubusercontent.com/AstraZeneca-Code-Club/intermediate_python/main/metabric_clinical_and_expression_data.csv')\n",
    "metabric.head()"
   ]
  },
  {
   "cell_type": "markdown",
   "metadata": {},
   "source": [
    "To recap from last time - the rows in a `DataFrame` are the **observations** (patients in the case of METABRIC) whereas columns are the observed **variables**."
   ]
  },
  {
   "cell_type": "code",
   "execution_count": 5,
   "metadata": {},
   "outputs": [
    {
     "data": {
      "text/plain": [
       "Index(['Patient_ID', 'Cohort', 'Age_at_diagnosis', 'Survival_time',\n",
       "       'Survival_status', 'Vital_status', 'Chemotherapy', 'Radiotherapy',\n",
       "       'Tumour_size', 'Tumour_stage', 'Neoplasm_histologic_grade',\n",
       "       'Lymph_nodes_examined_positive', 'Lymph_node_status', 'Cancer_type',\n",
       "       'ER_status', 'PR_status', 'HER2_status', 'HER2_status_measured_by_SNP6',\n",
       "       'PAM50', '3-gene_classifier', 'Nottingham_prognostic_index',\n",
       "       'Cellularity', 'Integrative_cluster', 'Mutation_count', 'ESR1', 'ERBB2',\n",
       "       'PGR', 'TP53', 'PIK3CA', 'GATA3', 'FOXA1', 'MLPH'],\n",
       "      dtype='object')"
      ]
     },
     "execution_count": 5,
     "metadata": {},
     "output_type": "execute_result"
    }
   ],
   "source": [
    "metabric.columns"
   ]
  },
  {
   "cell_type": "markdown",
   "metadata": {},
   "source": [
    "### Using matplotlib to visualise our data\n",
    "\n",
    "Let's first plot a simple bar plot showing the distribution of tumour stage in the patients."
   ]
  },
  {
   "cell_type": "code",
   "execution_count": 27,
   "metadata": {},
   "outputs": [
    {
     "data": {
      "image/png": "[encoded data removed]",
      "text/plain": [
       "<Figure size 432x288 with 1 Axes>"
      ]
     },
     "metadata": {
      "needs_background": "light"
     },
     "output_type": "display_data"
    }
   ],
   "source": [
    "labels, counts = np.unique(metabric['Tumour_stage'].dropna(), return_counts = True)\n",
    "plt.bar(labels, counts, align='center')\n",
    "plt.show()"
   ]
  },
  {
   "cell_type": "markdown",
   "metadata": {},
   "source": [
    "This plot gives us the basic information if we are looking at it as part of this whole notebook. However, you will often be generating plots to include in presentations or posters, and will therefore need to add more information to the plot.\n",
    "\n",
    "If you are not just using a set figure such as `plt.hist` and instead want to be able to personalise the figure, it is better to set up the figure as below:"
   ]
  },
  {
   "cell_type": "code",
   "execution_count": 30,
   "metadata": {},
   "outputs": [
    {
     "data": {
      "image/png": "[encoded data removed]",
      "text/plain": [
       "<Figure size 432x288 with 1 Axes>"
      ]
     },
     "metadata": {
      "needs_background": "light"
     },
     "output_type": "display_data"
    }
   ],
   "source": [
    "fig = plt.figure()\n",
    "ax = fig.add_subplot(111) #row-col-num\n",
    "ax.bar(labels, counts, align='center', color=['black', 'red', 'cyan', 'blue', 'green'])\n",
    "ax.set(title = 'Distribution of cancer stage in metabric dataset',\n",
    "       ylabel = 'No. of patients',\n",
    "       xlabel = 'Cancer stage')\n",
    "plt.show()"
   ]
  },
  {
   "cell_type": "markdown",
   "metadata": {},
   "source": [
    "Now that we've adapted the plot to our personal requirements, we would like to export the image so that we can use it for example in a presentation. We do this by just adding one more line to our existing code."
   ]
  },
  {
   "cell_type": "code",
   "execution_count": 31,
   "metadata": {},
   "outputs": [
    {
     "data": {
      "image/png": "[encoded data removed]",
      "text/plain": [
       "<Figure size 432x288 with 1 Axes>"
      ]
     },
     "metadata": {
      "needs_background": "light"
     },
     "output_type": "display_data"
    }
   ],
   "source": [
    "fig = plt.figure()\n",
    "ax = fig.add_subplot(111) \n",
    "ax.bar(labels, counts, align='center', color=['black', 'red', 'cyan', 'blue', 'green'])\n",
    "ax.set(title = 'Distribution of cancer stage in metabric dataset',\n",
    "       ylabel = 'No. of patients',\n",
    "       xlabel = 'Cancer stage')\n",
    "plt.savefig('cancer_stage.png')\n",
    "plt.show()"
   ]
  },
  {
   "cell_type": "markdown",
   "metadata": {},
   "source": [
    "#### Exercise 1\n",
    "\n",
    "- Generate a scatter plot with `FOXA1` on the x-axis and `MLPH` on the y-axis\n",
    "- Add figure and axes titles\n",
    "- Change the points to be red '+' signs, instead of the standard blue dots\n",
    "- Save the figure as a .png file\n",
    "\n",
    "Extension: This figure may be too small for people to read properly. Change the size of the figure to be 8cm across by 6cm down."
   ]
  },
  {
   "cell_type": "code",
   "execution_count": 44,
   "metadata": {},
   "outputs": [
    {
     "data": {
      "image/png": "[encoded data removed]",
      "text/plain": [
       "<Figure size 576x432 with 1 Axes>"
      ]
     },
     "metadata": {
      "needs_background": "light"
     },
     "output_type": "display_data"
    }
   ],
   "source": [
    "fig = plt.figure(figsize=(8,6))\n",
    "ax = fig.add_subplot(111) \n",
    "ax.scatter(metabric['FOXA1'], metabric['MLPH'], marker='+', color='red')\n",
    "ax.set(title = 'FOXA1 and MLPH in breast cancer patients',\n",
    "       ylabel = 'MLPH value',\n",
    "       xlabel = 'FOXA1 value')\n",
    "plt.savefig('test_figure.png')\n",
    "plt.show()"
   ]
  },
  {
   "cell_type": "markdown",
   "metadata": {},
   "source": [
    "### Doing multiple plots at once:\n",
    "\n",
    "`matplotlib` allows us to create subplots within a figure and to display different things in each of these subplots. We will use this to generate some more types of plots in `matplotlib`."
   ]
  },
  {
   "cell_type": "code",
   "execution_count": 70,
   "metadata": {},
   "outputs": [
    {
     "data": {
      "image/png": "[encoded data removed]",
      "text/plain": [
       "<Figure size 432x288 with 4 Axes>"
      ]
     },
     "metadata": {
      "needs_background": "light"
     },
     "output_type": "display_data"
    }
   ],
   "source": [
    "fig, axs = plt.subplots(2, 2)\n",
    "axs[0, 0].scatter(metabric['FOXA1'], metabric['MLPH'], marker='+', color='red')\n",
    "axs[0, 0].set_title('FOXA1 vs MLPH')\n",
    "axs[0, 1].hist(metabric['Age_at_diagnosis'])\n",
    "axs[0, 1].set_title('Histogram of age at diagnosis')\n",
    "axs[1, 0].matshow(metabric.corr())\n",
    "axs[1, 1].plot(metabric['Survival_time'], metabric['PIK3CA'], 'tab:red', color='green')\n",
    "axs[1, 1].set_title('Line plot survival vs PIK3CA')\n",
    "fig.tight_layout() # without this the x-ticks would overlap with the bottom row titles"
   ]
  },
  {
   "cell_type": "markdown",
   "metadata": {},
   "source": [
    "#### Drawbacks of matplotlib:\n",
    "\n",
    "- basic data manipulation\n",
    "- can't sort based on a column value\n",
    "- not particularly well suited to dealing with DataFrames\n",
    "- not that easy to adapt aesthetics past colours\n",
    "\n",
    "Let's see how `seaborn` can be used as a wrapper around matplotlib to extend the functionality and create better figures."
   ]
  },
  {
   "cell_type": "code",
   "execution_count": null,
   "metadata": {},
   "outputs": [],
   "source": []
  },
  {
   "cell_type": "code",
   "execution_count": null,
   "metadata": {},
   "outputs": [],
   "source": []
  },
  {
   "cell_type": "code",
   "execution_count": null,
   "metadata": {},
   "outputs": [],
   "source": []
  },
  {
   "cell_type": "code",
   "execution_count": null,
   "metadata": {},
   "outputs": [],
   "source": []
  }
 ],
 "metadata": {
  "kernelspec": {
   "display_name": "Python 3",
   "language": "python",
   "name": "python3"
  },
  "language_info": {
   "codemirror_mode": {
    "name": "ipython",
    "version": 3
   },
   "file_extension": ".py",
   "mimetype": "text/x-python",
   "name": "python",
   "nbconvert_exporter": "python",
   "pygments_lexer": "ipython3",
   "version": "3.7.6"
  }
 },
 "nbformat": 4,
 "nbformat_minor": 4
}
